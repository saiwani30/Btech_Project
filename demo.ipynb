{
 "cells": [
  {
   "cell_type": "code",
   "execution_count": 9,
   "metadata": {},
   "outputs": [
    {
     "name": "stdout",
     "output_type": "stream",
     "text": [
      "Total Frames: 3850\n",
      "Indoor Frames: 588 (15.27%)\n",
      "Outdoor Frames: 3262 (84.73%)\n"
     ]
    }
   ],
   "source": [
    "#Percentage of indoor (studio or identified indoor locations) vs outdoor shooting\n",
    "\n",
    "\n",
    "import cv2\n",
    "\n",
    "# Load the video\n",
    "video_path = 'Pathan Official Trailer_HD-(Status9).mp4'\n",
    "cap = cv2.VideoCapture(video_path)\n",
    "\n",
    "# Initialize variables to keep track of frame counts\n",
    "total_frames = 0\n",
    "indoor_frames = 0\n",
    "outdoor_frames = 0\n",
    "\n",
    "# Create a classifier or model to detect indoor scenes (you may need to train or use pre-trained models)\n",
    "# Here, we use a simple color thresholding method as a placeholder.\n",
    "def is_indoor(frame):\n",
    "    # Implement your logic here to classify frames as indoor or outdoor\n",
    "    # Example: Check if the frame contains mostly indoor colors\n",
    "    indoor_threshold = 0.5  # Adjust this threshold as needed\n",
    "    indoor_pixels = (frame[:, :, 0] > 100) & (frame[:, :, 1] > 100) & (frame[:, :, 2] > 100)\n",
    "    indoor_ratio = indoor_pixels.mean()\n",
    "    return indoor_ratio > indoor_threshold\n",
    "\n",
    "# Process each frame in the video\n",
    "while True:\n",
    "    ret, frame = cap.read()\n",
    "\n",
    "    if not ret:\n",
    "        break\n",
    "\n",
    "    total_frames += 1\n",
    "\n",
    "    if is_indoor(frame):\n",
    "        indoor_frames += 1\n",
    "    else:\n",
    "        outdoor_frames += 1\n",
    "\n",
    "# Calculate the percentage of indoor vs outdoor shooting\n",
    "percentage_indoor = (indoor_frames / total_frames) * 100\n",
    "percentage_outdoor = (outdoor_frames / total_frames) * 100\n",
    "\n",
    "# Print the results\n",
    "print(f\"Total Frames: {total_frames}\")\n",
    "print(f\"Indoor Frames: {indoor_frames} ({percentage_indoor:.2f}%)\")\n",
    "print(f\"Outdoor Frames: {outdoor_frames} ({percentage_outdoor:.2f}%)\")\n",
    "\n",
    "# Release the video capture object\n",
    "cap.release()\n",
    "cv2.destroyAllWindows()"
   ]
  },
  {
   "cell_type": "code",
   "execution_count": 15,
   "metadata": {},
   "outputs": [
    {
     "name": "stdout",
     "output_type": "stream",
     "text": [
      "Total silent frames: 0\n"
     ]
    }
   ],
   "source": [
    "import cv2\n",
    "import librosa\n",
    "import numpy as np\n",
    "\n",
    "# Load the video\n",
    "video_path = 'Pathan Official Trailer_HD-(Status9).mp4'\n",
    "cap = cv2.VideoCapture(video_path)\n",
    "\n",
    "# Parameters for audio analysis\n",
    "sample_rate = 22050  # Adjust as needed\n",
    "frame_length = 1024\n",
    "hop_length = 512\n",
    "silence_threshold = 0.005  # Adjust as needed\n",
    "\n",
    "silent_frames = []\n",
    "\n",
    "while True:\n",
    "    ret, frame = cap.read()\n",
    "    if not ret:\n",
    "        break\n",
    "\n",
    "    # Extract audio from the frame and convert to float32\n",
    "    audio = librosa.to_mono(frame.astype(np.float32))\n",
    "    energy = np.sum(np.abs(audio**2))\n",
    "\n",
    "    # Detect silent frames based on audio energy\n",
    "    if energy < silence_threshold:\n",
    "        silent_frames.append(int(cap.get(cv2.CAP_PROP_POS_FRAMES)))\n",
    "\n",
    "# Calculate the total count of silent frames\n",
    "total_silent_frames = len(silent_frames)\n",
    "\n",
    "# Now, 'silent_frames' contains frame numbers where audio is silent\n",
    "print(\"Total silent frames:\", total_silent_frames)\n"
   ]
  },
  {
   "cell_type": "code",
   "execution_count": 17,
   "metadata": {},
   "outputs": [
    {
     "name": "stdout",
     "output_type": "stream",
     "text": [
      "Percentage of post-credit scenes: 74.0%\n"
     ]
    }
   ],
   "source": [
    "import cv2\n",
    "\n",
    "# Function to detect post-credit scenes in an MP4 movie\n",
    "def detect_post_credit_percentage(video_path):\n",
    "    # Open the video file\n",
    "    cap = cv2.VideoCapture(video_path)\n",
    "\n",
    "    # Initialize variables to keep track of frames and post-credit scenes\n",
    "    total_frames = 0\n",
    "    post_credit_frames = 0\n",
    "\n",
    "    # Loop through the video frames\n",
    "    while True:\n",
    "        ret, frame = cap.read()\n",
    "\n",
    "        if not ret:\n",
    "            break\n",
    "\n",
    "        # Perform scene analysis here to determine if it's a post-credit scene\n",
    "        # You may need to implement a scene detection algorithm or use pre-trained models\n",
    "\n",
    "        # For simplicity, let's assume that every frame after a certain time is a post-credit scene\n",
    "        if total_frames > 1000:  # Adjust this threshold as needed\n",
    "            post_credit_frames += 1\n",
    "\n",
    "        total_frames += 1\n",
    "\n",
    "    # Calculate the percentage of post-credit scenes\n",
    "    if total_frames > 0:\n",
    "        percentage = (post_credit_frames / total_frames) * 100\n",
    "    else:\n",
    "        percentage = 0\n",
    "\n",
    "    # Close the video file\n",
    "    cap.release()\n",
    "\n",
    "    return percentage\n",
    "\n",
    "# Example usage:\n",
    "video_path = 'Pathan Official Trailer_HD-(Status9).mp4'\n",
    "percentage = detect_post_credit_percentage(video_path)\n",
    "print(f\"Percentage of post-credit scenes: {percentage}%\")"
   ]
  }
 ],
 "metadata": {
  "kernelspec": {
   "display_name": "Python 3",
   "language": "python",
   "name": "python3"
  },
  "language_info": {
   "codemirror_mode": {
    "name": "ipython",
    "version": 3
   },
   "file_extension": ".py",
   "mimetype": "text/x-python",
   "name": "python",
   "nbconvert_exporter": "python",
   "pygments_lexer": "ipython3",
   "version": "3.11.2"
  },
  "orig_nbformat": 4
 },
 "nbformat": 4,
 "nbformat_minor": 2
}
