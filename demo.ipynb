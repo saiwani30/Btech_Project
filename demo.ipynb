{
 "cells": [
  {
   "cell_type": "code",
   "execution_count": null,
   "metadata": {},
   "outputs": [],
   "source": [
    "import cv2\n",
    "print(cv2.__version__)\n"
   ]
  },
  {
   "cell_type": "code",
   "execution_count": null,
   "metadata": {},
   "outputs": [],
   "source": [
    "#Percentage of indoor (studio or identified indoor locations) vs outdoor shooting\n",
    "\n",
    "\n",
    "import cv2\n",
    "\n",
    "# Load the video\n",
    "video_path = 'koushiki/Pathan Official Trailer_HD-(Status9).mp4'\n",
    "cap = cv2.VideoCapture(video_path)\n",
    "\n",
    "# Initialize variables to keep track of frame counts\n",
    "total_frames = 0\n",
    "indoor_frames = 0\n",
    "outdoor_frames = 0\n",
    "\n",
    "# Create a classifier or model to detect indoor scenes (you may need to train or use pre-trained models)\n",
    "# Here, we use a simple color thresholding method as a placeholder.\n",
    "def is_indoor(frame):\n",
    "    # Implement your logic here to classify frames as indoor or outdoor\n",
    "    # Example: Check if the frame contains mostly indoor colors\n",
    "    indoor_threshold = 0.5  # Adjust this threshold as needed\n",
    "    indoor_pixels = (frame[:, :, 0] > 100) & (frame[:, :, 1] > 100) & (frame[:, :, 2] > 100)\n",
    "    indoor_ratio = indoor_pixels.mean()\n",
    "    return indoor_ratio > indoor_threshold\n",
    "\n",
    "# Process each frame in the video\n",
    "while True:\n",
    "    ret, frame = cap.read()\n",
    "\n",
    "    if not ret:\n",
    "        break\n",
    "\n",
    "    total_frames += 1\n",
    "\n",
    "    if is_indoor(frame):\n",
    "        indoor_frames += 1\n",
    "    else:\n",
    "        outdoor_frames += 1\n",
    "\n",
    "# Calculate the percentage of indoor vs outdoor shooting\n",
    "percentage_indoor = (indoor_frames / total_frames) * 100\n",
    "percentage_outdoor = (outdoor_frames / total_frames) * 100\n",
    "\n",
    "# Print the results\n",
    "print(f\"Total Frames: {total_frames}\")\n",
    "print(f\"Indoor Frames: {indoor_frames} ({percentage_indoor:.2f}%)\")\n",
    "print(f\"Outdoor Frames: {outdoor_frames} ({percentage_outdoor:.2f}%)\")\n",
    "\n",
    "# Release the video capture object\n",
    "cap.release()\n",
    "cv2.destroyAllWindows()"
   ]
  },
  {
   "cell_type": "code",
   "execution_count": 6,
   "metadata": {},
   "outputs": [
    {
     "ename": "KeyboardInterrupt",
     "evalue": "",
     "output_type": "error",
     "traceback": [
      "\u001b[1;31m---------------------------------------------------------------------------\u001b[0m",
      "\u001b[1;31mKeyboardInterrupt\u001b[0m                         Traceback (most recent call last)",
      "\u001b[1;32mc:\\Users\\USER\\OneDrive\\Desktop\\Project\\demo.ipynb Cell 3\u001b[0m line \u001b[0;36m2\n\u001b[0;32m     <a href='vscode-notebook-cell:/c%3A/Users/USER/OneDrive/Desktop/Project/demo.ipynb#W2sZmlsZQ%3D%3D?line=19'>20</a>\u001b[0m     \u001b[39mbreak\u001b[39;00m\n\u001b[0;32m     <a href='vscode-notebook-cell:/c%3A/Users/USER/OneDrive/Desktop/Project/demo.ipynb#W2sZmlsZQ%3D%3D?line=21'>22</a>\u001b[0m \u001b[39m# Extract audio from the frame and convert to float32\u001b[39;00m\n\u001b[1;32m---> <a href='vscode-notebook-cell:/c%3A/Users/USER/OneDrive/Desktop/Project/demo.ipynb#W2sZmlsZQ%3D%3D?line=22'>23</a>\u001b[0m audio \u001b[39m=\u001b[39m librosa\u001b[39m.\u001b[39;49mto_mono(frame\u001b[39m.\u001b[39;49mastype(np\u001b[39m.\u001b[39;49mfloat32))\n\u001b[0;32m     <a href='vscode-notebook-cell:/c%3A/Users/USER/OneDrive/Desktop/Project/demo.ipynb#W2sZmlsZQ%3D%3D?line=23'>24</a>\u001b[0m energy \u001b[39m=\u001b[39m np\u001b[39m.\u001b[39msum(np\u001b[39m.\u001b[39mabs(audio\u001b[39m*\u001b[39m\u001b[39m*\u001b[39m\u001b[39m2\u001b[39m))\n\u001b[0;32m     <a href='vscode-notebook-cell:/c%3A/Users/USER/OneDrive/Desktop/Project/demo.ipynb#W2sZmlsZQ%3D%3D?line=25'>26</a>\u001b[0m \u001b[39m# Detect silent frames based on audio energy\u001b[39;00m\n",
      "File \u001b[1;32m~\\AppData\\Local\\Packages\\PythonSoftwareFoundation.Python.3.11_qbz5n2kfra8p0\\LocalCache\\local-packages\\Python311\\site-packages\\librosa\\core\\audio.py:504\u001b[0m, in \u001b[0;36mto_mono\u001b[1;34m(y)\u001b[0m\n\u001b[0;32m    478\u001b[0m \u001b[39m\u001b[39m\u001b[39m\"\"\"Convert an audio signal to mono by averaging samples across channels.\u001b[39;00m\n\u001b[0;32m    479\u001b[0m \n\u001b[0;32m    480\u001b[0m \u001b[39mParameters\u001b[39;00m\n\u001b[1;32m   (...)\u001b[0m\n\u001b[0;32m    501\u001b[0m \u001b[39m(117601,)\u001b[39;00m\n\u001b[0;32m    502\u001b[0m \u001b[39m\"\"\"\u001b[39;00m\n\u001b[0;32m    503\u001b[0m \u001b[39m# Validate the buffer.  Stereo is ok here.\u001b[39;00m\n\u001b[1;32m--> 504\u001b[0m util\u001b[39m.\u001b[39;49mvalid_audio(y, mono\u001b[39m=\u001b[39;49m\u001b[39mFalse\u001b[39;49;00m)\n\u001b[0;32m    506\u001b[0m \u001b[39mif\u001b[39;00m y\u001b[39m.\u001b[39mndim \u001b[39m>\u001b[39m \u001b[39m1\u001b[39m:\n\u001b[0;32m    507\u001b[0m     y \u001b[39m=\u001b[39m np\u001b[39m.\u001b[39mmean(y, axis\u001b[39m=\u001b[39m\u001b[39mtuple\u001b[39m(\u001b[39mrange\u001b[39m(y\u001b[39m.\u001b[39mndim \u001b[39m-\u001b[39m \u001b[39m1\u001b[39m)))\n",
      "File \u001b[1;32m~\\AppData\\Local\\Packages\\PythonSoftwareFoundation.Python.3.11_qbz5n2kfra8p0\\LocalCache\\local-packages\\Python311\\site-packages\\librosa\\util\\utils.py:313\u001b[0m, in \u001b[0;36mvalid_audio\u001b[1;34m(y, mono)\u001b[0m\n\u001b[0;32m    308\u001b[0m \u001b[39mif\u001b[39;00m mono \u001b[39mand\u001b[39;00m y\u001b[39m.\u001b[39mndim \u001b[39m!=\u001b[39m \u001b[39m1\u001b[39m:\n\u001b[0;32m    309\u001b[0m     \u001b[39mraise\u001b[39;00m ParameterError(\n\u001b[0;32m    310\u001b[0m         \u001b[39mf\u001b[39m\u001b[39m\"\u001b[39m\u001b[39mInvalid shape for monophonic audio: ndim=\u001b[39m\u001b[39m{\u001b[39;00my\u001b[39m.\u001b[39mndim\u001b[39m:\u001b[39;00m\u001b[39md\u001b[39m\u001b[39m}\u001b[39;00m\u001b[39m, shape=\u001b[39m\u001b[39m{\u001b[39;00my\u001b[39m.\u001b[39mshape\u001b[39m}\u001b[39;00m\u001b[39m\"\u001b[39m\n\u001b[0;32m    311\u001b[0m     )\n\u001b[1;32m--> 313\u001b[0m \u001b[39mif\u001b[39;00m \u001b[39mnot\u001b[39;00m np\u001b[39m.\u001b[39;49misfinite(y)\u001b[39m.\u001b[39mall():\n\u001b[0;32m    314\u001b[0m     \u001b[39mraise\u001b[39;00m ParameterError(\u001b[39m\"\u001b[39m\u001b[39mAudio buffer is not finite everywhere\u001b[39m\u001b[39m\"\u001b[39m)\n\u001b[0;32m    316\u001b[0m \u001b[39mreturn\u001b[39;00m \u001b[39mTrue\u001b[39;00m\n",
      "\u001b[1;31mKeyboardInterrupt\u001b[0m: "
     ]
    }
   ],
   "source": [
    "import cv2\n",
    "import librosa\n",
    "import numpy as np\n",
    "\n",
    "# Load the video\n",
    "video_path = 'koushiki\\source\\Pulp Fiction (1994)\\Pulp.Fiction.1994.720p.BrRip.x264.YIFY.mp4'\n",
    "cap = cv2.VideoCapture(video_path)\n",
    "\n",
    "# Parameters for audio analysis\n",
    "sample_rate = 22050  # Adjust as needed\n",
    "frame_length = 1024\n",
    "hop_length = 512\n",
    "silence_threshold = 0.005  # Adjust as needed\n",
    "\n",
    "silent_frames = []\n",
    "\n",
    "while True:\n",
    "    ret, frame = cap.read()\n",
    "    if not ret:\n",
    "        break\n",
    "\n",
    "    # Extract audio from the frame and convert to float32\n",
    "    audio = librosa.to_mono(frame.astype(np.float32))\n",
    "    energy = np.sum(np.abs(audio**2))\n",
    "\n",
    "    # Detect silent frames based on audio energy\n",
    "    if energy < silence_threshold:\n",
    "        silent_frames.append(int(cap.get(cv2.CAP_PROP_POS_FRAMES)))\n",
    "\n",
    "# Calculate the total count of silent frames\n",
    "total_silent_frames = len(silent_frames)\n",
    "\n",
    "# Now, 'silent_frames' contains frame numbers where audio is silent\n",
    "print(\"Total silent frames:\", total_silent_frames)\n"
   ]
  }
 ],
 "metadata": {
  "kernelspec": {
   "display_name": "Python 3",
   "language": "python",
   "name": "python3"
  },
  "language_info": {
   "codemirror_mode": {
    "name": "ipython",
    "version": 3
   },
   "file_extension": ".py",
   "mimetype": "text/x-python",
   "name": "python",
   "nbconvert_exporter": "python",
   "pygments_lexer": "ipython3",
   "version": "3.11.5"
  },
  "orig_nbformat": 4
 },
 "nbformat": 4,
 "nbformat_minor": 2
}
